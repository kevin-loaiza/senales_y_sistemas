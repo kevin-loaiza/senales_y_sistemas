{
  "nbformat": 4,
  "nbformat_minor": 0,
  "metadata": {
    "colab": {
      "provenance": [],
      "include_colab_link": true
    },
    "kernelspec": {
      "name": "python3",
      "display_name": "Python 3"
    },
    "language_info": {
      "name": "python"
    }
  },
  "cells": [
    {
      "cell_type": "markdown",
      "metadata": {
        "id": "view-in-github",
        "colab_type": "text"
      },
      "source": [
        "<a href=\"https://colab.research.google.com/github/kevin-loaiza/senales_y_sistemas/blob/main/Talleres%20y%20parciales/Taller2SyS.ipynb\" target=\"_parent\"><img src=\"https://colab.research.google.com/assets/colab-badge.svg\" alt=\"Open In Colab\"/></a>"
      ]
    },
    {
      "cell_type": "markdown",
      "source": [],
      "metadata": {
        "id": "aR0KBtywXur3"
      }
    },
    {
      "cell_type": "markdown",
      "source": [
        "# Taller De transformadas\n",
        "Kevin loaiza patiño"
      ],
      "metadata": {
        "id": "IEHXaRhBKA7L"
      }
    },
    {
      "cell_type": "markdown",
      "source": [
        "#Transformada de fourier:"
      ],
      "metadata": {
        "id": "nfVonjtUKMiW"
      }
    },
    {
      "cell_type": "markdown",
      "source": [
        "##Punto 1:\n",
        "##Explique las semejanzas y diferencias entre la serie de Fourier (exponencial, trigonométrica y compacta), la transformada de Fourier, transformada de Fourier en tiempo discreto (DTFT) y transformada discreta de Fourier (DFT). Considere las diferentes combinaciones entre: espectro continuo y discreto y señal en tiempo continuo y discreto. Además, consulte en qué consiste el algoritmo Fast Fourier Transform (FFT) y su utilidad para el cálculo de la transformada discreta de Fourier. Explique en detalle el algoritmo FFT y su costo computacional vs el de la transformada discreta."
      ],
      "metadata": {
        "id": "lWn0Js8RKleg"
      }
    },
    {
      "cell_type": "markdown",
      "source": [
        "Las diferentes representaciones de Fourier se utilizan para analizar señales en el dominio de la frecuencia. Aquí te explico las semejanzas y diferencias entre ellas:\n",
        "\n",
        "**Series de Fourier (Exponencial, Trigonométrica y Compacta):**\n",
        "\n",
        "***Semejanzas:*** Todas representan señales periódicas en el dominio del tiempo como una suma de componentes sinusoidales (o exponenciales complejas) en el dominio de la frecuencia. El espectro es discreto, es decir, solo existen frecuencias específicas en el espectro.\n",
        "\n",
        "***Diferencias:***\n",
        "\n",
        "**Trigonométrica:** Utiliza senos y cosenos.\n",
        "\n",
        "**Exponencial:** Utiliza exponenciales complejas (relacionadas con senos y cosenos a través de la fórmula de Euler). Es más conveniente para análisis matemático.\n",
        "\n",
        "**Compacta:** Es una forma simplificada de la trigonométrica o exponencial que expresa la amplitud y fase de cada componente.\n",
        "\n",
        "**Transformada de Fourier (FT):**\n",
        "\n",
        "***Semejanzas:*** Analiza señales en el dominio de la frecuencia.\n",
        "Diferencias: Se aplica a señales no periódicas en el dominio del tiempo. El espectro de la FT es continuo, lo que significa que existen componentes en todas las frecuencias posibles. La señal en el tiempo es continua.\n",
        "\n",
        "**Transformada de Fourier en Tiempo Discreto (DTFT):**\n",
        "\n",
        "***Semejanzas:*** Analiza señales en el dominio de la frecuencia.\n",
        "\n",
        "***Diferencias:*** Se aplica a señales discretas en el dominio del tiempo (muestreadas). El espectro de la DTFT es continuo y periódico.\n",
        "\n",
        "**Transformada Discreta de Fourier (DFT):**\n",
        "\n",
        "***Semejanza:*** Analiza señales en el dominio de la frecuencia.\n",
        "\n",
        "***Diferencias:*** Se aplica a señales discretas y finitas en el dominio del tiempo. El espectro de la DFT es discreto y finito. Es la versión computacional de la DTFT.\n",
        "\n",
        "¿Qué es? La FFT es un algoritmo eficiente para calcular la Transformada Discreta de Fourier (DFT) y su inversa. No es una transformada diferente, sino una forma rápida de calcular la DFT.\n",
        "Utilidad: La DFT tiene un costo computacional elevado, especialmente para señales largas. La FFT reduce significativamente este costo, haciendo posible el análisis de frecuencia de señales en tiempo real o en sistemas con recursos limitados.\n",
        "Detalle del Algoritmo: La FFT se basa en el principio de \"divide y vencerás\". Descompone el cálculo de una DFT de tamaño N en el cálculo de DFTs más pequeñas. El algoritmo más común es el de Cooley-Tukey, que funciona de manera más eficiente cuando el tamaño N es una potencia de 2. Divide la secuencia de entrada en secuencias pares e impares y calcula sus DFTs por separado, combinando luego los resultados para obtener la DFT completa.\n",
        "Costo Computacional:\n",
        "DFT (directa): El costo computacional de calcular una DFT directamente es proporcional a $N^2$ (donde N es el número de puntos en la señal). Esto significa que si duplicas el tamaño de la señal, el tiempo de cálculo se cuadruplica.\n",
        "FFT: El costo computacional de la FFT es proporcional a $\\text{N log}_2(\\text{N})$. Esto es significativamente menor que $N^2$, especialmente para valores grandes de N. Si duplicas el tamaño de la señal, el tiempo de cálculo aumenta mucho menos que al usar la DFT directa.\n",
        "\n",
        "En resumen, las representaciones de Fourier nos permiten entender el contenido de frecuencia de una señal. La elección de la representación adecuada depende de si la señal es continua o discreta en el tiempo, y si es periódica o no. La FFT es una herramienta crucial para la implementación práctica de la DFT debido a su eficiencia computacional."
      ],
      "metadata": {
        "id": "wtAb0GLBNtqz"
      }
    },
    {
      "cell_type": "markdown",
      "source": [
        "##Punto 3:\n",
        "##Encuentre la función de densidad espectral (transformada de Fourier) para las siguientes señales (sin aplicar propiedades):\n",
        "##a) $e^{-a|t|}, a∈\\mathbb{R}^+$;\n",
        "\n",
        "##b) $cos(w_ct), w_c∈\\mathbb{R}$;\n",
        "\n",
        "##c) $sin(w_st), w_s∈\\mathbb{R}$;\n",
        "\n",
        "##d) $f(t)cos(w_ct), w_c∈R,f(t)∈\\mathbb{R},\\mathbb{C}$;\n",
        "\n",
        "##e) $e^{-a|t|^2}, a∈\\mathbb{R}^+$.\n",
        "\n",
        "##f) $Arect_d(t), A, d ∈ \\mathbb{R}$."
      ],
      "metadata": {
        "id": "qG0lZdpuTD85"
      }
    },
    {
      "cell_type": "markdown",
      "source": [
        "Transformada de Fourier:\n",
        "\n",
        "$$X(\\omega) = \\int_{-\\infty}^{\\infty} x(t) e^{-j\\omega t} dt$$\n",
        "\n",
        "a) La definición de $|t|$ es:"
      ],
      "metadata": {
        "id": "tgWvq4qOXf5C"
      }
    },
    {
      "cell_type": "markdown",
      "source": [
        "\n",
        "# Transformada de Fourier (Densidad Espectral)\n",
        "\n",
        "Se resuelve la transformada de Fourier de las siguientes señales usando la definición directa:\n",
        "\n",
        "$$\n",
        "X(f) = \\int_{-\\infty}^{\\infty} x(t) e^{-j2\\pi f t} \\, dt\n",
        "$$\n",
        "\n",
        "---\n",
        "\n",
        "## a) \\( x(t) = e^{-a|t|}, \\quad a \\in \\mathbb{R}^+ \\)\n",
        "\n",
        "Separando por partes:\n",
        "\n",
        "$$\n",
        "X(f) = \\int_{-\\infty}^{0} e^{(a - j2\\pi f)t} dt + \\int_{0}^{\\infty} e^{-(a + j2\\pi f)t} dt\n",
        "$$\n",
        "\n",
        "Evaluando:\n",
        "\n",
        "$$\n",
        "X(f) = \\frac{1}{a - j2\\pi f} + \\frac{1}{a + j2\\pi f} = \\frac{2a}{a^2 + (2\\pi f)^2}\n",
        "$$\n",
        "\n",
        "---\n",
        "\n",
        "## b) \\( x(t) = \\cos(w_c t), \\quad w_c \\in \\mathbb{R} \\)\n",
        "\n",
        "Usamos identidad de Euler:\n",
        "\n",
        "$$\n",
        "\\cos(w_c t) = \\frac{e^{j w_c t} + e^{-j w_c t}}{2}\n",
        "$$\n",
        "\n",
        "Transformada:\n",
        "\n",
        "$$\n",
        "X(f) = \\frac{1}{2} \\left[ \\delta\\left(f - \\frac{w_c}{2\\pi}\\right) + \\delta\\left(f + \\frac{w_c}{2\\pi}\\right) \\right]\n",
        "$$\n",
        "\n",
        "---\n",
        "\n",
        "## c) \\( x(t) = \\sin(w_s t) \\)\n",
        "\n",
        "Usamos:\n",
        "\n",
        "$$\n",
        "\\sin(w_s t) = \\frac{e^{j w_s t} - e^{-j w_s t}}{2j}\n",
        "$$\n",
        "\n",
        "Transformada:\n",
        "\n",
        "$$\n",
        "X(f) = \\frac{1}{2j} \\left[ \\delta\\left(f - \\frac{w_s}{2\\pi}\\right) - \\delta\\left(f + \\frac{w_s}{2\\pi}\\right) \\right]\n",
        "$$\n",
        "\n",
        "---\n",
        "\n",
        "## d) \\( x(t) = f(t)\\cos(w_c t) \\)\n",
        "\n",
        "No se puede resolver sin conocer la forma de \\( f(t) \\). Se necesita más información (por ejemplo, si \\( f(t) \\) es gaussiana, rectangular, etc.).\n",
        "\n",
        "---\n",
        "\n",
        "## e) \\( x(t) = e^{-a t^2}, \\quad a \\in \\mathbb{R}^+ \\)\n",
        "\n",
        "Transformada de una función gaussiana:\n",
        "\n",
        "$$\n",
        "X(f) = \\int_{-\\infty}^{\\infty} e^{-a t^2} e^{-j2\\pi f t} dt = \\sqrt{\\frac{\\pi}{a}} \\cdot e^{-\\frac{(\\pi f)^2}{a}}\n",
        "$$\n",
        "\n",
        "---\n",
        "\n",
        "## f) \\( x(t) = A \\cdot \\text{rect}_d(t), \\quad d \\in \\mathbb{R} \\)\n",
        "\n",
        "Definición de la función rectangular:\n",
        "\n",
        "$$\n",
        "\\text{rect}_d(t) =\n",
        "\\begin{cases}\n",
        "1 & \\text{si } |t| < \\frac{d}{2} \\\\\n",
        "0 & \\text{si } |t| \\geq \\frac{d}{2}\n",
        "\\end{cases}\n",
        "$$\n",
        "\n",
        "Transformada:\n",
        "\n",
        "$$\n",
        "X(f) = A \\int_{-d/2}^{d/2} e^{-j2\\pi f t} dt = A \\cdot \\frac{\\sin(\\pi f d)}{\\pi f} = A \\cdot d \\cdot \\text{sinc}(f d)\n",
        "$$\n",
        "\n",
        "Donde:\n",
        "\n",
        "$$\n",
        "\\text{sinc}(x) = \\frac{\\sin(\\pi x)}{\\pi x}\n",
        "$$"
      ],
      "metadata": {
        "id": "MD62oZAJWXDH"
      }
    }
  ]
}