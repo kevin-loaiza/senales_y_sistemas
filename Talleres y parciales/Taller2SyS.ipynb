{
  "nbformat": 4,
  "nbformat_minor": 0,
  "metadata": {
    "colab": {
      "provenance": [],
      "include_colab_link": true
    },
    "kernelspec": {
      "name": "python3",
      "display_name": "Python 3"
    },
    "language_info": {
      "name": "python"
    }
  },
  "cells": [
    {
      "cell_type": "markdown",
      "metadata": {
        "id": "view-in-github",
        "colab_type": "text"
      },
      "source": [
        "<a href=\"https://colab.research.google.com/github/kevin-loaiza/senales_y_sistemas/blob/main/Talleres%20y%20parciales/Taller2SyS.ipynb\" target=\"_parent\"><img src=\"https://colab.research.google.com/assets/colab-badge.svg\" alt=\"Open In Colab\"/></a>"
      ]
    },
    {
      "cell_type": "markdown",
      "source": [],
      "metadata": {
        "id": "aR0KBtywXur3"
      }
    },
    {
      "cell_type": "markdown",
      "source": [
        "# Taller De transformadas\n",
        "Kevin loaiza patiño"
      ],
      "metadata": {
        "id": "IEHXaRhBKA7L"
      }
    },
    {
      "cell_type": "markdown",
      "source": [
        "#Transformada de fourier:"
      ],
      "metadata": {
        "id": "nfVonjtUKMiW"
      }
    },
    {
      "cell_type": "markdown",
      "source": [
        "##Punto 1:\n",
        "Explique las semejanzas y diferencias entre la serie de Fourier (exponencial, trigonométrica y compacta), la transformada de Fourier, transformada de Fourier en tiempo discreto (DTFT) y transformada discreta de Fourier (DFT). Considere las diferentes combinaciones entre: espectro continuo y discreto y señal en tiempo continuo y discreto. Además, consulte en qué consiste el algoritmo Fast Fourier Transform (FFT) y su utilidad para el cálculo de la transformada discreta de Fourier. Explique en detalle el algoritmo FFT y su costo computacional vs el de la transformada discreta."
      ],
      "metadata": {
        "id": "lWn0Js8RKleg"
      }
    },
    {
      "cell_type": "markdown",
      "source": [
        "1. Serie de Fourier (para señales periódicas de tiempo continuo)\n",
        "\n",
        "Consideremos una señal periódica $x(t)$$x(t)$ con período fundamental $T_0$$T_0$.\n",
        "\n",
        "Forma Trigonométrica: La señal se expresa como una suma infinita de senos y cosenos a frecuencias que son múltiplos de la frecuencia fundamental $\\omega_0 = 2\\pi/T_0$: $$x(t) = a_0 + \\sum_{n=1}^{\\infty} (a_n \\cos(n\\omega_0 t) + b_n \\sin(n\\omega_0 t))$$ donde los coeficientes se calculan como: $$a_0 = \\frac{1}{T_0} \\int_{T_0} x(t) dt$$ $$a_n = \\frac{2}{T_0} \\int_{T_0} x(t) \\cos(n\\omega_0 t) dt \\quad \\text{para } n \\ge 1$$ $$b_n = \\frac{2}{T_0} \\int_{T_0} x(t) \\sin(n\\omega_0 t) dt \\quad \\text{para } n \\ge 1$$ El espectro es discreto, representado por los valores de $a_n$ y $b_n$ en las frecuencias $n\\omega_0$.\n",
        "\n",
        "Forma Exponencial: Utilizando la identidad de Euler ($e^{j\\theta} = \\cos(\\theta) + j\\sin(\\theta)$), la serie de Fourier trigonométrica puede reescribirse en términos de exponenciales complejas: $$x(t) = \\sum_{n=-\\infty}^{\\infty} c_n e^{jn\\omega_0 t}$$ donde los coeficientes complejos $c_n$ se calculan como: $$c_n = \\frac{1}{T_0} \\int_{T_0} x(t) e^{-jn\\omega_0 t} dt$$ La relación entre los coeficientes trigonométricos y exponenciales es: $c_0 = a_0$ $c_n = \\frac{1}{2}(a_n - jb_n)$ para $n > 0$ $c_n = \\frac{1}{2}(a_{-n} + jb_{-n})$ para $n < 0$ (considerando $a_{-n} = a_n$ y $b_{-n} = -b_n$ si $x(t)$ es real). El espectro también es discreto, representado por los valores de $c_n$ en las frecuencias $n\\omega_0$.\n",
        "\n",
        "Forma Compacta: Combina los términos seno y coseno en un solo término sinusoidal con una amplitud y fase: $$x(t) = A_0 + \\sum_{n=1}^{\\infty} A_n \\cos(n\\omega_0 t + \\phi_n)$$ donde $A_0 = a_0$, $A_n = \\sqrt{a_n^2 + b_n^2}$, y $\\phi_n = \\arctan(-b_n/a_n)$. El espectro también es discreto, representado por las amplitudes $A_n$ y fases $\\phi_n$ en las frecuencias $n\\omega_0$.\n",
        "\n",
        "2. Transformada de Fourier (para señales no periódicas de tiempo continuo)\n",
        "\n",
        "La transformada de Fourier extiende el concepto de la serie de Fourier a señales no periódicas. En lugar de una suma discreta de exponenciales, se utiliza una integral sobre un rango continuo de frecuencias.\n",
        "\n",
        "La transformada de Fourier de una señal $x(t)$$x(t)$ se define como: $$X(\\omega) = \\mathcal{F}\\{x(t)\\} = \\int_{-\\infty}^{\\infty} x(t) e^{-j\\omega t} dt$$$$X(\\omega) = \\mathcal{F}\\{x(t)\\} = \\int_{-\\infty}^{\\infty} x(t) e^{-j\\omega t} dt$$ La transformada inversa de Fourier, que recupera la señal original a partir de su espectro, es: $$x(t) = \\mathcal{F}^{-1}\\{X(\\omega)\\} = \\frac{1}{2\\pi} \\int_{-\\infty}^{\\infty} X(\\omega) e^{j\\omega t} d\\omega$$$$x(t) = \\mathcal{F}^{-1}\\{X(\\omega)\\} = \\frac{1}{2\\pi} \\int_{-\\infty}^{\\infty} X(\\omega) e^{j\\omega t} d\\omega$$ En este caso, la señal $x(t)$$x(t)$ es continua en el tiempo, y su espectro $X(\\omega)$$X(\\omega)$ es continuo en la frecuencia $\\omega$$\\omega$.\n",
        "\n",
        "3. Transformada de Fourier en Tiempo Discreto (DTFT) (para señales no periódicas de tiempo discreto)\n",
        "\n",
        "Para una señal discreta $x[n]$$x[n]$ (obtenida muestreando una señal continua), la DTFT se define como: $$X(\\omega) = \\mathcal{D}\\mathcal{T}\\mathcal{F}\\mathcal{T}\\{x[n]\\} = \\sum_{n=-\\infty}^{\\infty} x[n] e^{-j\\omega n}$$$$X(\\omega) = \\mathcal{D}\\mathcal{T}\\mathcal{F}\\mathcal{T}\\{x[n]\\} = \\sum_{n=-\\infty}^{\\infty} x[n] e^{-j\\omega n}$$ donde $\\omega$$\\omega$ es la frecuencia angular en radianes por muestra.\n",
        "\n",
        "La transformada inversa de DTFT es: $$x[n] = \\mathcal{D}\\mathcal{T}\\mathcal{F}\\mathcal{T}^{-1}\\{X(\\omega)\\} = \\frac{1}{2\\pi} \\int_{-\\pi}^{\\pi} X(\\omega) e^{j\\omega n} d\\omega$$$$x[n] = \\mathcal{D}\\mathcal{T}\\mathcal{F}\\mathcal{T}^{-1}\\{X(\\omega)\\} = \\frac{1}{2\\pi} \\int_{-\\pi}^{\\pi} X(\\omega) e^{j\\omega n} d\\omega$$\n",
        "\n",
        "La señal $x[n]$$x[n]$ es discreta en el tiempo. El espectro $X(\\omega)$$X(\\omega)$ es continuo y periódico con período $2\\pi$$2\\pi$ en la frecuencia $\\omega$$\\omega$.\n",
        "\n",
        "4. Transformada Discreta de Fourier (DFT) (para señales finitas de tiempo discreto)\n",
        "\n",
        "La DFT es la herramienta computacional utilizada para analizar señales discretas de longitud finita. Se define para una secuencia de $N$$N$ muestras $x[0], x[1], \\dots, x[N-1]$$x[0], x[1], \\dots, x[N-1]$ como:\n",
        "\n",
        "$$X[k] = \\mathcal{D}\\mathcal{F}\\mathcal{T}\\{x[n]\\} = \\sum_{n=0}^{N-1} x[n] e^{-j\\frac{2\\pi}{N} k n} \\quad \\text{para } k = 0, 1, \\dots, N-1$$$$X[k] = \\mathcal{D}\\mathcal{F}\\mathcal{T}\\{x[n]\\} = \\sum_{n=0}^{N-1} x[n] e^{-j\\frac{2\\pi}{N} k n} \\quad \\text{para } k = 0, 1, \\dots, N-1$$\n",
        "\n",
        "La transformada inversa de DFT es:\n",
        "\n",
        "$$x[n] = \\mathcal{D}\\mathcal{F}\\mathcal{T}^{-1}\\{X[k]\\} = \\frac{1}{N} \\sum_{k=0}^{N-1} X[k] e^{j\\frac{2\\pi}{N} k n} \\quad \\text{para } n = 0, 1, \\dots, N-1$$$$x[n] = \\mathcal{D}\\mathcal{F}\\mathcal{T}^{-1}\\{X[k]\\} = \\frac{1}{N} \\sum_{k=0}^{N-1} X[k] e^{j\\frac{2\\pi}{N} k n} \\quad \\text{para } n = 0, 1, \\dots, N-1$$\n",
        "\n",
        "La señal $x[n]$$x[n]$ es discreta y finita. El espectro $X[k]$$X[k]$ es discreto y finito, con $N$$N$ puntos en la frecuencia. Estos puntos de frecuencia $k$$k$ corresponden a $\\frac{2\\pi k}{N}$$\\frac{2\\pi k}{N}$ en términos de frecuencia angular.\n",
        "\n",
        "5. Algoritmo Fast Fourier Transform (FFT): Costo Computacional\n",
        "\n",
        "La DFT directa requiere $N$$N$ sumas, y cada suma tiene $N$$N$ términos. Cada término implica una multiplicación compleja y una suma compleja. En total, el cálculo directo de la DFT requiere aproximadamente $N^2$$N^2$ multiplicaciones y $N^2$$N^2$ sumas complejas. El costo computacional es $O(N^2)$$O(N^2)$.\n",
        "\n",
        "La FFT, en cambio, explota la simetría y periodicidad de la exponencial compleja para reducir el número de operaciones. El algoritmo más común, como el de Cooley-Tukey, divide recursivamente la DFT de tamaño $N$$N$ en DFTs más pequeñas. Para un $N$$N$ que es una potencia de 2 ($N=2^m$$N=2^m$), el costo computacional se reduce a aproximadamente $O(N \\log_2 N)$$O(N \\log_2 N)$ operaciones complejas (multiplicaciones y sumas).\n",
        "\n",
        "La diferencia en el costo computacional entre $N^2$$N^2$ y $N \\log_2 N$$N \\log_2 N$ es significativa, especialmente para valores grandes de $N$$N$. Por ejemplo, para $N=1024$$N=1024$:\n",
        "\n",
        "DFT directa: $1024^2 \\approx 1,000,000$$1024^2 \\approx 1,000,000$ operaciones.\n",
        "FFT: $1024 \\log_2(1024) = 1024 \\times 10 = 10240$$1024 \\log_2(1024) = 1024 \\times 10 = 10240$ operaciones.\n",
        "Esta reducción en el costo computacional es lo que hace que la FFT sea fundamental en el procesamiento digital de señales.\n",
        "\n",
        "Espero que esta explicación matemática detallada te sea útil."
      ],
      "metadata": {
        "id": "wtAb0GLBNtqz"
      }
    },
    {
      "cell_type": "markdown",
      "source": [
        "##Punto 3:\n",
        "Encuentre la función de densidad espectral (transformada de Fourier) para las siguientes señales (sin aplicar propiedades):\n",
        "a) $e^{-a|t|}, a∈\\mathbb{R}^+$;\n",
        "\n",
        "b) $cos(w_ct), w_c∈\\mathbb{R}$;\n",
        "\n",
        "c) $sin(w_st), w_s∈\\mathbb{R}$;\n",
        "\n",
        "d) $f(t)cos(w_ct), w_c∈R,f(t)∈\\mathbb{R},\\mathbb{C}$;\n",
        "\n",
        "e) $e^{-a|t|^2}, a∈\\mathbb{R}^+$.\n",
        "\n",
        "f) $Arect_d(t), A, d ∈ \\mathbb{R}$."
      ],
      "metadata": {
        "id": "qG0lZdpuTD85"
      }
    },
    {
      "cell_type": "markdown",
      "source": [
        "a) $x(t) = e^{-a|t|}, a∈\\mathbb{R}^+$$x(t) = e^{-a|t|}, a∈\\mathbb{R}^+$ $$X(f) = \\frac{2a}{a^2 + (2\\pi f)^2}$$$$X(f) = \\frac{2a}{a^2 + (2\\pi f)^2}$$\n",
        "<br>\n",
        "\n",
        "b) $x(t) = cos(w_ct), w_c∈\\mathbb{R}$$x(t) = cos(w_ct), w_c∈\\mathbb{R}$ $$X(f) = \\frac{1}{2} \\left[ \\delta\\left(f - \\frac{w_c}{2\\pi}\\right) + \\delta\\left(f + \\frac{w_c}{2\\pi}\\right) \\right]$$$$X(f) = \\frac{1}{2} \\left[ \\delta\\left(f - \\frac{w_c}{2\\pi}\\right) + \\delta\\left(f + \\frac{w_c}{2\\pi}\\right) \\right]$$\n",
        "<br>\n",
        "\n",
        "c) $x(t) = sin(w_st), w_s∈\\mathbb{R}$$x(t) = sin(w_st), w_s∈\\mathbb{R}$ $$X(f) = \\frac{1}{2j} \\left[ \\delta\\left(f - \\frac{w_s}{2\\pi}\\right) - \\delta\\left(f + \\frac{w_s}{2\\pi}\\right) \\right]$$$$X(f) = \\frac{1}{2j} \\left[ \\delta\\left(f - \\frac{w_s}{2\\pi}\\right) - \\delta\\left(f + \\frac{w_s}{2\\pi}\\right) \\right]$$\n",
        "<br>\n",
        "\n",
        "d) $x(t) = f(t)cos(w_ct), w_c∈R, f(t)∈\\mathbb{R},\\mathbb{C}$$x(t) = f(t)cos(w_ct), w_c∈R, f(t)∈\\mathbb{R},\\mathbb{C}$ No se puede resolver sin conocer la forma explícita de $f(t)$$f(t)$.\n",
        "<br>\n",
        "\n",
        "e) $x(t) = e^{-a|t|^2}, a∈\\mathbb{R}^+$$x(t) = e^{-a|t|^2}, a∈\\mathbb{R}^+$ $$X(f) = \\sqrt{\\frac{\\pi}{a}} e^{-\\frac{(\\pi f)^2}{a}}$$$$X(f) = \\sqrt{\\frac{\\pi}{a}} e^{-\\frac{(\\pi f)^2}{a}}$$\n",
        "<br>\n",
        "\n",
        "f) $x(t) = Arect_d(t), A, d ∈ \\mathbb{R}$$x(t) = Arect_d(t), A, d ∈ \\mathbb{R}$ $$X(f) = A d \\cdot \\text{sinc}(f d)$$$$X(f) = A d \\cdot \\text{sinc}(f d)$$"
      ],
      "metadata": {
        "id": "574HatVGPgiy"
      }
    }
  ]
}